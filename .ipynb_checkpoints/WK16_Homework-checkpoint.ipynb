{
 "cells": [
  {
   "cell_type": "markdown",
   "id": "2ca47320",
   "metadata": {},
   "source": [
    "#### Week 16 Homework\n",
    "##### Angela Spencer - January 19, 2022"
   ]
  },
  {
   "cell_type": "code",
   "execution_count": null,
   "id": "d6056ec0",
   "metadata": {},
   "outputs": [],
   "source": [
    "#dependencies"
   ]
  },
  {
   "cell_type": "markdown",
   "id": "0f90a5b2",
   "metadata": {},
   "source": [
    "#### 1.\tPerform combined over and undersampling on the diabetes dataset (use SMOTEENN). Explain how combined sampling works."
   ]
  },
  {
   "cell_type": "code",
   "execution_count": null,
   "id": "abd1b272",
   "metadata": {},
   "outputs": [],
   "source": []
  },
  {
   "cell_type": "markdown",
   "id": "d9985179",
   "metadata": {},
   "source": [
    "#### 2a.\tPerform logistic regression with the new data from question 1. "
   ]
  },
  {
   "cell_type": "code",
   "execution_count": null,
   "id": "2798b3d1",
   "metadata": {},
   "outputs": [],
   "source": []
  },
  {
   "cell_type": "markdown",
   "id": "4e774b1d",
   "metadata": {},
   "source": [
    "#### 2b.\tComment on the performance of combined sampling vs the other approaches we have used for the diabetes dataset."
   ]
  },
  {
   "cell_type": "code",
   "execution_count": null,
   "id": "c48db79e",
   "metadata": {},
   "outputs": [],
   "source": []
  },
  {
   "cell_type": "markdown",
   "id": "90d13e75",
   "metadata": {},
   "source": [
    "#### 3a.\tCreate an ROC Curve for the model https://scikit-learn.org/stable/modules/generated/sklearn.metrics.roc_curve.html and calculate the AUC. "
   ]
  },
  {
   "cell_type": "code",
   "execution_count": null,
   "id": "40213e76",
   "metadata": {},
   "outputs": [],
   "source": []
  },
  {
   "cell_type": "markdown",
   "id": "2cc22b09",
   "metadata": {},
   "source": [
    "#### 3b.\tBRIEFLY explain what the ROC Curve shows and what the resulting AUC means. "
   ]
  },
  {
   "cell_type": "code",
   "execution_count": null,
   "id": "ce52deac",
   "metadata": {},
   "outputs": [],
   "source": []
  },
  {
   "cell_type": "markdown",
   "id": "649509dd",
   "metadata": {},
   "source": [
    "#### 4.\tWhat is outlier detection? Why is it useful? What methods can you use for outlier detection?"
   ]
  },
  {
   "cell_type": "code",
   "execution_count": null,
   "id": "98aca286",
   "metadata": {},
   "outputs": [],
   "source": []
  },
  {
   "cell_type": "markdown",
   "id": "f56c6f5e",
   "metadata": {},
   "source": [
    "#### 5a.\tPerform a linear SVM to predict credit approval (last column) using this dataset: \n",
    "        https://archive.ics.uci.edu/ml/datasets/Statlog+%28Australian+Credit+Approval%29 . \n",
    "#### Make sure you look at the accompanying document that describes the data in the dat file. You will need to either convert this data to another file type or import the dat file to python. You can use this code, but otherwise you follow standard practices we have already used many times: \n",
    "        from sklearn.svm import SVC\n",
    "        classifier = SVC(kernel='linear')"
   ]
  },
  {
   "cell_type": "code",
   "execution_count": null,
   "id": "798b21f2",
   "metadata": {},
   "outputs": [],
   "source": []
  },
  {
   "cell_type": "markdown",
   "id": "b517e7fb",
   "metadata": {},
   "source": [
    "#### 5b.\tHow did the SVM model perform? "
   ]
  },
  {
   "cell_type": "code",
   "execution_count": null,
   "id": "03c17808",
   "metadata": {},
   "outputs": [],
   "source": []
  },
  {
   "cell_type": "markdown",
   "id": "e213e255",
   "metadata": {},
   "source": [
    "#### 6.\tWhat kinds of jobs in data are you most interested in? Do some research on what is out there. Write about your thoughts in under 400 words. "
   ]
  },
  {
   "cell_type": "code",
   "execution_count": null,
   "id": "a9b6e74d",
   "metadata": {},
   "outputs": [],
   "source": []
  }
 ],
 "metadata": {
  "kernelspec": {
   "display_name": "Python 3 (ipykernel)",
   "language": "python",
   "name": "python3"
  },
  "language_info": {
   "codemirror_mode": {
    "name": "ipython",
    "version": 3
   },
   "file_extension": ".py",
   "mimetype": "text/x-python",
   "name": "python",
   "nbconvert_exporter": "python",
   "pygments_lexer": "ipython3",
   "version": "3.9.7"
  }
 },
 "nbformat": 4,
 "nbformat_minor": 5
}
