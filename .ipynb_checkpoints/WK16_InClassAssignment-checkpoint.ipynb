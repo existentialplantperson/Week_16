{
 "cells": [
  {
   "cell_type": "markdown",
   "id": "2c8fc4f6",
   "metadata": {},
   "source": [
    "#### Week 16 - In Class Assignment\n",
    "\n",
    "##### Angela Spencer - January 12,  2022"
   ]
  },
  {
   "cell_type": "markdown",
   "id": "92804c98",
   "metadata": {},
   "source": [
    "##### 1. Work to improve the model performance for the diabetes decision tree we created in class. You should be able to improve the precision and recall to be above .8 and .7 respectively. You can improve the preprocessing OR alter the model itself."
   ]
  },
  {
   "cell_type": "code",
   "execution_count": 1,
   "id": "57ea6bd9",
   "metadata": {},
   "outputs": [],
   "source": [
    "import pandas as pd\n",
    "from sklearn import tree\n",
    "from sklearn.metrics import classification_report, plot_confusion_matrix\n",
    "import pydotplus\n",
    "from IPython.display import Image"
   ]
  },
  {
   "cell_type": "code",
   "execution_count": 9,
   "id": "82bde28e",
   "metadata": {},
   "outputs": [],
   "source": [
    "diabetes_df = pd.read_csv(\"../Datasets/diabetes.csv\")\n",
    "X_1 = diabetes_df.drop('Outcome', axis=1)\n",
    "y_1 = diabetes_df['Outcome']"
   ]
  },
  {
   "cell_type": "code",
   "execution_count": 14,
   "id": "36d78880",
   "metadata": {},
   "outputs": [
    {
     "data": {
      "text/plain": [
       "array([False,  True, False, False, False,  True,  True, False])"
      ]
     },
     "execution_count": 14,
     "metadata": {},
     "output_type": "execute_result"
    }
   ],
   "source": [
    "## Use RFE for feature selection\n",
    "\n",
    "from sklearn.feature_selection import RFE\n",
    "from sklearn.linear_model import LogisticRegression\n",
    "\n",
    "estimator = tree.DecisionTreeClassifier(max_depth=10, random_state=42)\n",
    "\n",
    "rfe = RFE(estimator, n_features_to_select = 3)\n",
    "\n",
    "selector = rfe.fit(X_1, y_1)\n",
    "\n",
    "## select columns X2, X6, X7\n",
    "selector.support_"
   ]
  },
  {
   "cell_type": "code",
   "execution_count": 16,
   "id": "d2e1b0b2",
   "metadata": {},
   "outputs": [],
   "source": [
    "from sklearn.model_selection import train_test_split\n",
    "from sklearn.preprocessing import StandardScaler\n",
    "\n",
    "#convert RFE output into columns, create new X and y variables\n",
    "cols = X_1.columns[selector.support_==True]\n",
    "\n",
    "X = diabetes_df[cols]\n",
    "y = diabetes_df['Outcome']\n",
    "\n",
    "#train test split\n",
    "X_train, X_test, y_train, y_test = train_test_split(X,y,test_size=0.3, random_state=42)\n",
    "\n",
    "#scale data to be analyzed\n",
    "sc=StandardScaler()\n",
    "X_train = sc.fit_transform(X_train)\n",
    "X_test = sc.fit_transform(X_test)"
   ]
  },
  {
   "cell_type": "code",
   "execution_count": 17,
   "id": "d4d43b48",
   "metadata": {},
   "outputs": [],
   "source": [
    "#create and fit decision tree classifier\n",
    "model = tree.DecisionTreeClassifier(max_depth=10, random_state=42, criterion = 'entropy')\n",
    "model = model.fit(X_train, y_train)\n",
    "y_pred = model.predict(X_test)"
   ]
  },
  {
   "cell_type": "code",
   "execution_count": 18,
   "id": "a4c902c0",
   "metadata": {},
   "outputs": [
    {
     "name": "stdout",
     "output_type": "stream",
     "text": [
      "              precision    recall  f1-score   support\n",
      "\n",
      "           0       0.76      0.76      0.76       151\n",
      "           1       0.54      0.54      0.54        80\n",
      "\n",
      "    accuracy                           0.68       231\n",
      "   macro avg       0.65      0.65      0.65       231\n",
      "weighted avg       0.68      0.68      0.68       231\n",
      "\n"
     ]
    }
   ],
   "source": [
    "#show accuracy score before tuning\n",
    "print(classification_report(y_test, y_pred))"
   ]
  },
  {
   "cell_type": "code",
   "execution_count": 22,
   "id": "2a065e29",
   "metadata": {},
   "outputs": [
    {
     "data": {
      "text/plain": [
       "{'criterion': 'entropy', 'max_depth': 6}"
      ]
     },
     "execution_count": 22,
     "metadata": {},
     "output_type": "execute_result"
    }
   ],
   "source": [
    "#use Grid search for parameter tuning\n",
    "\n",
    "import numpy as np\n",
    "from sklearn.model_selection import GridSearchCV\n",
    "\n",
    "#grid search validation\n",
    "max_depth_range = np.arange(5,16,1)\n",
    "param_grid = {'max_depth':max_depth_range, 'criterion':['gini', 'entropy']}\n",
    "cv = GridSearchCV(tree.DecisionTreeClassifier(),param_grid, cv=6)\n",
    "cv.fit(X,y)\n",
    "cv.best_params_"
   ]
  },
  {
   "cell_type": "code",
   "execution_count": 24,
   "id": "29d389fc",
   "metadata": {},
   "outputs": [
    {
     "name": "stdout",
     "output_type": "stream",
     "text": [
      "              precision    recall  f1-score   support\n",
      "\n",
      "           0       0.81      0.75      0.78       151\n",
      "           1       0.59      0.66      0.62        80\n",
      "\n",
      "    accuracy                           0.72       231\n",
      "   macro avg       0.70      0.71      0.70       231\n",
      "weighted avg       0.73      0.72      0.73       231\n",
      "\n"
     ]
    }
   ],
   "source": [
    "#create and fit new decision tree classifier with CV parameters\n",
    "model = tree.DecisionTreeClassifier(max_depth=6, random_state=42, criterion = 'entropy')\n",
    "model = model.fit(X_train, y_train)\n",
    "y_pred = model.predict(X_test)\n",
    "\n",
    "#accuracy and precision have improved\n",
    "print(classification_report(y_test, y_pred))"
   ]
  },
  {
   "cell_type": "code",
   "execution_count": 111,
   "id": "75699a4b",
   "metadata": {},
   "outputs": [
    {
     "data": {
      "image/png": "[encoded data removed]",
      "text/plain": [
       "<Figure size 432x288 with 1 Axes>"
      ]
     },
     "metadata": {
      "needs_background": "light"
     },
     "output_type": "display_data"
    }
   ],
   "source": [
    "import matplotlib.pyplot as plt\n",
    "\n",
    "tree.plot_tree(model)\n",
    "plt.savefig(\"diabetes_tree.svg\")\n",
    "plt.show()"
   ]
  },
  {
   "cell_type": "markdown",
   "id": "24774528",
   "metadata": {},
   "source": [
    "#### 2. Create a function that accepts an array of names and returns a string formatted as a list of names separated by commas EXCEPT for the last two names, which are separated by an ampersand (and sign - &)\n",
    "Example input:\n",
    "\n",
    "      [ {'name': 'Nichole'}, {'name': 'Tanisha'}, {'name': 'Maggie'} ]\n",
    "\n",
    "Example output:\n",
    "\n",
    "      Nichole, Tanisha & Maggie"
   ]
  },
  {
   "cell_type": "code",
   "execution_count": 92,
   "id": "b1e44063",
   "metadata": {},
   "outputs": [],
   "source": [
    "test = [ {'name': 'Nichole'}, {'name': 'Tanisha'}, {'name': 'Maggie'} ]"
   ]
  },
  {
   "cell_type": "code",
   "execution_count": 104,
   "id": "4a2e79c3",
   "metadata": {},
   "outputs": [],
   "source": [
    "def name_change (array):\n",
    "    \n",
    "    for x in array[0:1]:\n",
    "        return x"
   ]
  },
  {
   "cell_type": "code",
   "execution_count": 105,
   "id": "c8db66b7",
   "metadata": {},
   "outputs": [
    {
     "data": {
      "text/plain": [
       "{'name': 'Nichole'}"
      ]
     },
     "execution_count": 105,
     "metadata": {},
     "output_type": "execute_result"
    }
   ],
   "source": [
    "name_change(test)"
   ]
  },
  {
   "cell_type": "code",
   "execution_count": 93,
   "id": "97824ec6",
   "metadata": {},
   "outputs": [
    {
     "name": "stdout",
     "output_type": "stream",
     "text": [
      "Nichole,\n",
      "Tanisha,\n",
      " & Maggie\n"
     ]
    }
   ],
   "source": [
    "for i, name in enumerate(test):\n",
    "    for n in name.values():\n",
    "        if i < len(test) -1:\n",
    "            print(n + ',')\n",
    "        else:\n",
    "            print(' & ' + n)"
   ]
  },
  {
   "cell_type": "code",
   "execution_count": 107,
   "id": "65a66446",
   "metadata": {},
   "outputs": [],
   "source": [
    "def name_nonsense(name_input):\n",
    "    string = ''\n",
    "    for i, name in enumerate(names_list):\n",
    "        for n in name.values():\n",
    "            if i <= len(names_list)-1:\n",
    "                string = string + n\n",
    "            else:\n",
    "                string = string + ', ' + n\n",
    "    return string"
   ]
  },
  {
   "cell_type": "code",
   "execution_count": 108,
   "id": "b287cdf7",
   "metadata": {},
   "outputs": [
    {
     "data": {
      "text/plain": [
       "'NicholeTanishaMaggie'"
      ]
     },
     "execution_count": 108,
     "metadata": {},
     "output_type": "execute_result"
    }
   ],
   "source": [
    "name_nonsense(test)"
   ]
  },
  {
   "cell_type": "code",
   "execution_count": 100,
   "id": "1026e067",
   "metadata": {},
   "outputs": [],
   "source": [
    "### This is the one!!\n",
    "\n",
    "def name_string(names_list):\n",
    "    string = ''\n",
    "    for i, name in enumerate(names_list):\n",
    "        for n in name.values():\n",
    "            if i ==0:\n",
    "                string = string + n\n",
    "            elif i == len(names_list)-1:\n",
    "                string = string + ' & ' + n\n",
    "            else:\n",
    "                string = string + ', ' + n\n",
    "    return string"
   ]
  },
  {
   "cell_type": "code",
   "execution_count": 101,
   "id": "2e99c434",
   "metadata": {},
   "outputs": [
    {
     "data": {
      "text/plain": [
       "'Nichole, Tanisha & Maggie'"
      ]
     },
     "execution_count": 101,
     "metadata": {},
     "output_type": "execute_result"
    }
   ],
   "source": [
    "name_string(test)"
   ]
  },
  {
   "cell_type": "code",
   "execution_count": 109,
   "id": "92e04e15",
   "metadata": {},
   "outputs": [
    {
     "data": {
      "text/plain": [
       "'Nichole, Tanisha, Maggie & Eva'"
      ]
     },
     "execution_count": 109,
     "metadata": {},
     "output_type": "execute_result"
    }
   ],
   "source": [
    "test2 = [ {'name': 'Nichole'}, {'name': 'Tanisha'}, {'name': 'Maggie'}, {'name':'Eva'} ]\n",
    "name_string(test2)"
   ]
  }
 ],
 "metadata": {
  "kernelspec": {
   "display_name": "Python 3 (ipykernel)",
   "language": "python",
   "name": "python3"
  },
  "language_info": {
   "codemirror_mode": {
    "name": "ipython",
    "version": 3
   },
   "file_extension": ".py",
   "mimetype": "text/x-python",
   "name": "python",
   "nbconvert_exporter": "python",
   "pygments_lexer": "ipython3",
   "version": "3.9.7"
  }
 },
 "nbformat": 4,
 "nbformat_minor": 5
}
